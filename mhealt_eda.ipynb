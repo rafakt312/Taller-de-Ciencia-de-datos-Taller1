{
 "cells": [
  {
   "cell_type": "markdown",
   "id": "86b45d5f",
   "metadata": {},
   "source": [
    "# 📊 Análisis Exploratorio del Dataset MHEALTH\n",
    "\n",
    "Este notebook corresponde al **primer producto computacional** del curso.  \n",
    "El objetivo es realizar un **análisis exploratorio de datos (EDA)** sobre el dataset **MHEALTH**, incluyendo carga, exploración, limpieza y documentación.\n",
    "\n",
    "---\n",
    "\n",
    "## 📌 Contenido\n",
    "1. [Importación de librerías](#section1)  \n",
    "2. [Carga del dataset](#section2)  \n",
    "3. [Exploración inicial de los datos](#section3)  \n",
    "4. [Análisis estadístico y visualizaciones](#section4)  \n",
    "5. [Limpieza y preprocesamiento](#section5)  \n",
    "6. [Conclusiones y reflexiones](#section6)  \n",
    "\n",
    "---\n",
    "\n",
    "## <a id=\"section1\"></a> 1. Importación de librerías\n",
    "```python\n",
    "import pandas as pd\n",
    "import numpy as np\n",
    "import matplotlib.pyplot as plt\n",
    "import seaborn as sns\n",
    "\n",
    "# Configuración de estilo\n",
    "sns.set(style=\"whitegrid\", palette=\"muted\")\n"
   ]
  }
 ],
 "metadata": {
  "language_info": {
   "name": "python"
  }
 },
 "nbformat": 4,
 "nbformat_minor": 5
}
