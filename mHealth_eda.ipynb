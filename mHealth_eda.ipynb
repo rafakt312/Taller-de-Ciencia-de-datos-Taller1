{
  "cells": [
    {
      "cell_type": "markdown",
      "metadata": {
        "colab_type": "text",
        "id": "view-in-github"
      },
      "source": [
        "<a href=\"https://colab.research.google.com/github/rafakt312/Taller-de-Ciencia-de-datos-Taller1/blob/main/mHealth_eda.ipynb\" target=\"_parent\"><img src=\"https://colab.research.google.com/assets/colab-badge.svg\" alt=\"Open In Colab\"/></a>"
      ]
    },
    {
      "cell_type": "markdown",
      "metadata": {
        "id": "7ouq7CVvLQEh"
      },
      "source": [
        "# 📊 Análisis Exploratorio del Dataset MHEALTH\n",
        "\n",
        "Este notebook corresponde al **primer producto computacional** del curso.  \n",
        "El objetivo es realizar un **análisis exploratorio de datos (EDA)** sobre el dataset **MHEALTH**, incluyendo carga, exploración, limpieza y documentación.\n",
        "\n",
        "## <a id=\"section1\"></a> 1. Importación de librerías\n",
        "```python\n",
        "import pandas as pd\n",
        "import numpy as np\n",
        "import matplotlib.pyplot as plt\n",
        "import seaborn as sns\n",
        "\n",
        "# Configuración de estilo\n",
        "sns.set(style=\"whitegrid\", palette=\"muted\")\n"
      ]
    },
    {
      "cell_type": "markdown",
      "metadata": {},
      "source": [
        "## 2. Carga del dataset"
      ]
    },
    {
      "cell_type": "code",
      "execution_count": null,
      "metadata": {
        "vscode": {
          "languageId": "plaintext"
        }
      },
      "outputs": [],
      "source": [
        "# Descarga del dataset MHEALTH desde UCI Repository\n",
        "url = \"https://archive.ics.uci.edu/ml/machine-learning-databases/00319/MHEALTHDATASET.zip\"\n",
        "\n",
        "!wget {url} -O mhealth.zip\n",
        "!unzip -q mhealth.zip -d mhealth\n",
        "\n",
        "# Exploramos los archivos descargados\n",
        "import os\n",
        "os.listdir(\"mhealth\")[:5]"
      ]
    },
    {
      "cell_type": "markdown",
      "metadata": {},
      "source": [
        "## 3. Exploración inicial de los datos"
      ]
    },
    {
      "cell_type": "code",
      "execution_count": null,
      "metadata": {
        "vscode": {
          "languageId": "plaintext"
        }
      },
      "outputs": [],
      "source": [
        "import pandas as pd\n",
        "import numpy as np\n",
        "import matplotlib.pyplot as plt\n",
        "import seaborn as snsa\n",
        "from sklearn.preprocessing import StandardScaler\n",
        "\n",
        "sns.set(style=\"whitegrid\", palette=\"muted\")"
      ]
    },
    {
      "cell_type": "markdown",
      "metadata": {},
      "source": [
        "## 4. Análisis estadístico y visualizaciones"
      ]
    },
    {
      "cell_type": "code",
      "execution_count": null,
      "metadata": {
        "vscode": {
          "languageId": "plaintext"
        }
      },
      "outputs": [],
      "source": [
        "# Dimensiones y tipos de datos\n",
        "```python\n",
        "print(df.shape)\n",
        "print(df.info())\n",
        "\n",
        "# Valores faltantes\n",
        "df.isnull().sum()\n",
        "\n",
        "# Estadísticas básicas\n",
        "df.describe()"
      ]
    },
    {
      "cell_type": "markdown",
      "metadata": {},
      "source": [
        "## 5. Limpieza y preprocesamiento"
      ]
    },
    {
      "cell_type": "code",
      "execution_count": null,
      "metadata": {
        "vscode": {
          "languageId": "plaintext"
        }
      },
      "outputs": [],
      "source": [
        "# Detección de valores atípicos con boxplot en una variable\n",
        "```python\n",
        "plt.figure(figsize=(8,4))\n",
        "sns.boxplot(x=df[0])\n",
        "plt.title(\"Detección de valores atípicos en la columna 0\")\n",
        "plt.show()\n"
      ]
    },
    {
      "cell_type": "code",
      "execution_count": null,
      "metadata": {
        "vscode": {
          "languageId": "plaintext"
        }
      },
      "outputs": [],
      "source": [
        "# Normalización / estandarización de variables numéricas\n",
        "from sklearn.preprocessing import StandardScaler\n",
        "\n",
        "scaler = StandardScaler()\n",
        "scaled = scaler.fit_transform(df.iloc[:, :-1])  # todas menos la última (actividad)\n",
        "scaled[:5]\n"
      ]
    }
  ],
  "metadata": {
    "colab": {
      "authorship_tag": "ABX9TyP594V/x8ziosQdc9k5xI+3",
      "include_colab_link": true,
      "provenance": []
    },
    "kernelspec": {
      "display_name": "Python 3",
      "name": "python3"
    },
    "language_info": {
      "name": "python"
    }
  },
  "nbformat": 4,
  "nbformat_minor": 0
}
