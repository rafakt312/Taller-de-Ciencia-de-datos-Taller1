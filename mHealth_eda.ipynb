{
  "cells": [
    {
      "cell_type": "markdown",
      "metadata": {
        "colab_type": "text",
        "id": "view-in-github"
      },
      "source": [
        "<a href=\"https://colab.research.google.com/github/rafakt312/Taller-de-Ciencia-de-datos-Taller1/blob/main/mHealth_eda.ipynb\" target=\"_parent\"><img src=\"https://colab.research.google.com/assets/colab-badge.svg\" alt=\"Open In Colab\"/></a>"
      ]
    },
    {
      "cell_type": "markdown",
      "metadata": {
        "id": "7ouq7CVvLQEh"
      },
      "source": [
        "# 📊 Análisis Exploratorio del Dataset MHEALTH\n",
        "\n",
        "Este notebook corresponde al **primer producto computacional** del curso.  \n",
        "El objetivo es realizar un **análisis exploratorio de datos (EDA)** sobre el dataset **MHEALTH**, incluyendo carga, exploración, limpieza y documentación.\n",
        "\n",
        "---\n",
        "\n",
        "## 📌 Contenido\n",
        "1. [Importación de librerías](#section1)  \n",
        "2. [Carga del dataset](#section2)  \n",
        "3. [Exploración inicial de los datos](#section3)  \n",
        "4. [Análisis estadístico y visualizaciones](#section4)  \n",
        "5. [Limpieza y preprocesamiento](#section5)    \n",
        "\n",
        "---\n",
        "\n",
        "## <a id=\"section1\"></a> 1. Importación de librerías\n",
        "```python\n",
        "import pandas as pd\n",
        "import numpy as np\n",
        "import matplotlib.pyplot as plt\n",
        "import seaborn as sns\n",
        "\n",
        "# Configuración de estilo\n",
        "sns.set(style=\"whitegrid\", palette=\"muted\")\n"
      ]
    },
    {
      "cell_type": "code",
      "execution_count": null,
      "metadata": {
        "vscode": {
          "languageId": "plaintext"
        }
      },
      "outputs": [],
      "source": [
        "## <a id=\"section2\"></a> 2. Carga del dataset\n",
        "import pandas as pd\n",
        "import numpy as np\n",
        "import matplotlib.pyplot as plt\n",
        "import seaborn as sns\n",
        "from sklearn.preprocessing import StandardScaler\n",
        "\n",
        "sns.set(style=\"whitegrid\", palette=\"muted\")\n"
      ]
    },
    {
      "cell_type": "code",
      "execution_count": null,
      "metadata": {
        "vscode": {
          "languageId": "plaintext"
        }
      },
      "outputs": [],
      "source": [
        "# Descarga del dataset MHEALTH desde UCI Repository\n",
        "url = \"https://archive.ics.uci.edu/ml/machine-learning-databases/00319/MHEALTHDATASET.zip\"\n",
        "\n",
        "!wget {url} -O mhealth.zip\n",
        "!unzip -q mhealth.zip -d mhealth\n",
        "\n",
        "# Exploramos los archivos descargados\n",
        "import os\n",
        "os.listdir(\"mhealth\")[:5]\n"
      ]
    },
    {
      "cell_type": "code",
      "execution_count": null,
      "metadata": {
        "vscode": {
          "languageId": "plaintext"
        }
      },
      "outputs": [],
      "source": [
        "## <a id=\"section3\"></a> 3. Exploración inicial de los datos\n",
        "# Cargar un archivo de ejemplo\n",
        "df = pd.read_csv(\"mhealth/mHealth_subject1.log\", \n",
        "                 delim_whitespace=True, header=None)\n",
        "\n",
        "# Vista rápida\n",
        "df.head()\n"
      ]
    },
    {
      "cell_type": "code",
      "execution_count": null,
      "metadata": {
        "vscode": {
          "languageId": "plaintext"
        }
      },
      "outputs": [],
      "source": [
        "## <a id=\"section4\"></a> 4. Análisis estadístico y visualizaciones\n",
        "# Dimensiones y tipos de datos\n",
        "print(df.shape)\n",
        "print(df.info())\n",
        "\n",
        "# Valores faltantes\n",
        "df.isnull().sum()\n",
        "\n",
        "# Estadísticas básicas\n",
        "df.describe()\n"
      ]
    },
    {
      "cell_type": "code",
      "execution_count": null,
      "metadata": {
        "vscode": {
          "languageId": "plaintext"
        }
      },
      "outputs": [],
      "source": [
        "## <a id=\"section5\"></a> 5. Limpieza y preprocesamiento\n",
        "# Detección de valores atípicos con boxplot en una variable\n",
        "plt.figure(figsize=(8,4))\n",
        "sns.boxplot(x=df[0])\n",
        "plt.title(\"Detección de valores atípicos en la columna 0\")\n",
        "plt.show()\n"
      ]
    },
    {
      "cell_type": "code",
      "execution_count": null,
      "metadata": {
        "vscode": {
          "languageId": "plaintext"
        }
      },
      "outputs": [],
      "source": [
        "# Normalización / estandarización de variables numéricas\n",
        "from sklearn.preprocessing import StandardScaler\n",
        "\n",
        "scaler = StandardScaler()\n",
        "scaled = scaler.fit_transform(df.iloc[:, :-1])  # todas menos la última (actividad)\n",
        "scaled[:5]\n"
      ]
    }
  ],
  "metadata": {
    "colab": {
      "authorship_tag": "ABX9TyP594V/x8ziosQdc9k5xI+3",
      "include_colab_link": true,
      "provenance": []
    },
    "kernelspec": {
      "display_name": "Python 3",
      "name": "python3"
    },
    "language_info": {
      "name": "python"
    }
  },
  "nbformat": 4,
  "nbformat_minor": 0
}
