{
  "nbformat": 4,
  "nbformat_minor": 0,
  "metadata": {
    "colab": {
      "provenance": [],
      "authorship_tag": "ABX9TyP594V/x8ziosQdc9k5xI+3",
      "include_colab_link": true
    },
    "kernelspec": {
      "name": "python3",
      "display_name": "Python 3"
    },
    "language_info": {
      "name": "python"
    }
  },
  "cells": [
    {
      "cell_type": "markdown",
      "metadata": {
        "id": "view-in-github",
        "colab_type": "text"
      },
      "source": [
        "<a href=\"https://colab.research.google.com/github/rafakt312/Taller-de-Ciencia-de-datos-Taller1/blob/main/mHealth_eda.ipynb\" target=\"_parent\"><img src=\"https://colab.research.google.com/assets/colab-badge.svg\" alt=\"Open In Colab\"/></a>"
      ]
    },
    {
      "cell_type": "markdown",
      "source": [
        "# 📊 Análisis Exploratorio del Dataset MHEALTH\n",
        "\n",
        "Este notebook corresponde al **primer producto computacional** del curso.  \n",
        "El objetivo es realizar un **análisis exploratorio de datos (EDA)** sobre el dataset **MHEALTH**, incluyendo carga, exploración, limpieza y documentación.\n",
        "\n",
        "---\n",
        "\n",
        "## 📌 Contenido\n",
        "1. [Importación de librerías](#section1)  \n",
        "2. [Carga del dataset](#section2)  \n",
        "3. [Exploración inicial de los datos](#section3)  \n",
        "4. [Análisis estadístico y visualizaciones](#section4)  \n",
        "5. [Limpieza y preprocesamiento](#section5)  \n",
        "6. [Conclusiones y reflexiones](#section6)  \n",
        "\n",
        "---\n",
        "\n",
        "## <a id=\"section1\"></a> 1. Importación de librerías\n",
        "```python\n",
        "import pandas as pd\n",
        "import numpy as np\n",
        "import matplotlib.pyplot as plt\n",
        "import seaborn as sns\n",
        "\n",
        "# Configuración de estilo\n",
        "sns.set(style=\"whitegrid\", palette=\"muted\")\n"
      ],
      "metadata": {
        "id": "7ouq7CVvLQEh"
      }
    }
  ]
}