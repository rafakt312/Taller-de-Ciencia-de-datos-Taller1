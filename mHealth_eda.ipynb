{
  "cells": [
    {
      "cell_type": "markdown",
      "metadata": {
        "colab_type": "text",
        "id": "view-in-github"
      },
      "source": [
        "<a href=\"https://colab.research.google.com/github/rafakt312/Taller-de-Ciencia-de-datos-Taller1/blob/main/mHealth_eda.ipynb\" target=\"_parent\"><img src=\"https://colab.research.google.com/assets/colab-badge.svg\" alt=\"Open In Colab\"/></a>"
      ]
    },
    {
      "cell_type": "markdown",
      "metadata": {
        "id": "7ouq7CVvLQEh"
      },
      "source": [
        "# 📊 Análisis Exploratorio del Dataset MHEALTH\n",
        "\n",
        "Este notebook corresponde al **primer producto computacional** del curso.  \n",
        "El objetivo es realizar un **análisis exploratorio de datos (EDA)** sobre el dataset **MHEALTH**, incluyendo carga, exploración, limpieza y documentación.\n",
        "\n",
        "## <a id=\"section1\"></a> 1. Importación de librerías\n",
        "```python\n",
        "import pandas as pd\n",
        "import numpy as np\n",
        "import matplotlib.pyplot as plt\n",
        "import seaborn as sns\n",
        "\n",
        "# Configuración de estilo\n",
        "sns.set(style=\"whitegrid\", palette=\"muted\")\n"
      ]
    },
    {
      "cell_type": "markdown",
      "metadata": {},
      "source": [
        "## 2. Carga del dataset"
      ]
    },
    {
      "cell_type": "code",
      "execution_count": null,
      "metadata": {
        "vscode": {
          "languageId": "plaintext"
        }
      },
      "outputs": [],
      "source": [
        "# Descargar y descomprimir dataset MHEALTH desde UCI Repository\n",
        "url = \"https://archive.ics.uci.edu/ml/machine-learning-databases/00319/MHEALTHDATASET.zip\"\n",
        "!wget {url} -O mhealth.zip\n",
        "!unzip -q mhealth.zip -d mhealth\n",
        "\n",
        "# Cargar un archivo de ejemplo (sujeto 1)\n",
        "df = pd.read_csv(\"mhealth/mHealth_subject1.log\", \n",
        "                 delim_whitespace=True, header=None)\n",
        "\n",
        "df.head()"
      ]
    },
    {
      "cell_type": "markdown",
      "metadata": {},
      "source": [
        "## 3. Exploración inicial de los datos"
      ]
    },
    {
      "cell_type": "code",
      "execution_count": null,
      "metadata": {
        "vscode": {
          "languageId": "plaintext"
        }
      },
      "outputs": [],
      "source": [
        "print(\"Dimensiones:\", df.shape)\n",
        "df.info()\n",
        "df.describe().T"
      ]
    },
    {
      "cell_type": "markdown",
      "metadata": {},
      "source": [
        "## 4. Análisis estadístico y visualizaciones"
      ]
    },
    {
      "cell_type": "code",
      "execution_count": null,
      "metadata": {
        "vscode": {
          "languageId": "plaintext"
        }
      },
      "outputs": [],
      "source": [
        "# Histograma de una variable\n",
        "df[0].hist(bins=50, figsize=(8,4))\n",
        "plt.title(\"Distribución de la primera variable\")\n",
        "plt.show()"
      ]
    },
    {
      "cell_type": "markdown",
      "metadata": {},
      "source": [
        "## 5. Limpieza y preprocesamiento"
      ]
    },
    {
      "cell_type": "code",
      "execution_count": null,
      "metadata": {
        "vscode": {
          "languageId": "plaintext"
        }
      },
      "outputs": [],
      "source": [
        "scaler = StandardScaler()\n",
        "df_scaled = scaler.fit_transform(df.iloc[:, :-1])  # todas menos la última columna\n",
        "df_scaled = pd.DataFrame(df_scaled, columns=df.columns[:-1])\n",
        "df_scaled.head()"
      ]
    }
  ],
  "metadata": {
    "colab": {
      "authorship_tag": "ABX9TyP594V/x8ziosQdc9k5xI+3",
      "include_colab_link": true,
      "provenance": []
    },
    "kernelspec": {
      "display_name": "Python 3",
      "name": "python3"
    },
    "language_info": {
      "name": "python"
    }
  },
  "nbformat": 4,
  "nbformat_minor": 0
}
